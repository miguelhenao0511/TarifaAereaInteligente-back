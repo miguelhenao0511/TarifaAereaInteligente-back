{
 "cells": [
  {
   "cell_type": "code",
   "execution_count": 13,
   "metadata": {},
   "outputs": [],
   "source": [
    "import pandas as pd\n",
    "import numpy as np\n",
    "import torch\n",
    "\n",
    "\n",
    "# Ajustar y transformar los datos\n",
    "def Normalizar(escalas,dia,mes,year):\n",
    "\n",
    "    min_parada,max_parada=0,3\n",
    "    day_min,day_max=1,31\n",
    "    mount_min,mount_max=2,4\n",
    "    year_min,year_max=2022.0,2022\n",
    "    #Normalizacion\n",
    "    escalas=(escalas-min_parada)/(max_parada-min_parada)\n",
    "    dia=(dia-day_min)/(day_max-day_min)\n",
    "    mes=(mes-mount_min)/(mount_max-mount_min)\n",
    "    try:\n",
    "        year= (year-year_min)/(year_max-year_min)\n",
    "    except:\n",
    "        year=0\n",
    "\n",
    "\n",
    "    return [escalas,dia,mes,year]\n",
    "\n",
    "def preparacion_datos(aerolinea,source,destino):\n",
    "       aero=\"Air_\"+aerolinea\n",
    "       source=\"Source_\"+source\n",
    "       destino=\"Destination_\"+destino\n",
    "       aerolines={'Air_Aeroflot':0, 'Air_Air Canada':1, 'Air_Air France':2,\n",
    "       'Air_American Airlines':3, 'Air_British Airways':4, 'Air_Delta':5,\n",
    "       'Air_Emirates':6, 'Air_Finnair':7, 'Air_Finnair, American Airlines':8,\n",
    "       'Air_KLM':9, 'Air_LOT':10, 'Air_Lufthansa':11, 'Air_Lufthansa, Egypt Air':12,\n",
    "       'Air_Multiple Airlines':13, 'Air_Qatar Airways':14, 'Air_SAUDIA':15, 'Air_SWISS':16,\n",
    "       'Air_TAP AIR PORTUGAL':17, 'Air_Turkish Airlines':18, 'Air_United Airlines':19}\n",
    "       sources={'Source_NYC':0, 'Source_PAR':1, 'Source_RUH':2, 'Source_SVO':3}\n",
    "       Destinos={'Destination_NYC':0, 'Destination_PAR':1, 'Destination_RUH':2,'Destination_SVO':3}\n",
    "       valor_aero=aerolines[aero]\n",
    "       valor_source=sources[source]\n",
    "       valor_destino=Destinos[destino]\n",
    "       lista_aero=np.zeros(20)\n",
    "       lista_source=np.zeros(4)\n",
    "       lista_destino=np.zeros(4)\n",
    "       lista_aero[valor_aero] = 1\n",
    "       lista_source[valor_source]= 1\n",
    "       lista_destino[valor_destino]= 1\n",
    "       return list(lista_aero)+list(lista_source)+list(lista_destino)\n",
    "     "
   ]
  },
  {
   "cell_type": "code",
   "execution_count": 14,
   "metadata": {},
   "outputs": [],
   "source": [
    "from datetime import datetime\n",
    "from datetime import timedelta\n",
    "\n",
    "def Fecha(Fechas,cant_fechas):\n",
    "    fecha = datetime.strptime(Fechas, \"%Y-%m-%d\")\n",
    "    Fechas=[fecha+timedelta(days=i) for i in range(0,cant_fechas)]\n",
    "    return Fechas"
   ]
  },
  {
   "cell_type": "code",
   "execution_count": 21,
   "metadata": {},
   "outputs": [
    {
     "data": {
      "text/plain": [
       "RecursiveScriptModule(\n",
       "  original_name=RedPrecios\n",
       "  (linear_relu_stack): RecursiveScriptModule(\n",
       "    original_name=Sequential\n",
       "    (0): RecursiveScriptModule(original_name=Linear)\n",
       "    (1): RecursiveScriptModule(original_name=ReLU)\n",
       "    (2): RecursiveScriptModule(original_name=Linear)\n",
       "    (3): RecursiveScriptModule(original_name=ReLU)\n",
       "    (4): RecursiveScriptModule(original_name=Linear)\n",
       "  )\n",
       ")"
      ]
     },
     "execution_count": 21,
     "metadata": {},
     "output_type": "execute_result"
    }
   ],
   "source": [
    "from sklearn.preprocessing import MinMaxScaler\n",
    "import pandas as pd\n",
    "import numpy as np\n",
    "import torch\n",
    "\n",
    "# Crear el objeto MinMaxScaler\n",
    "scaler = MinMaxScaler()\n",
    "Data=pd.read_csv(\"./modelo/Datos_Transformados.csv\")\n",
    "# Ajustar y transformar los datos\n",
    "Data['Total stops'] = scaler.fit_transform(Data[['Total stops']])\n",
    "Data['Departure_Day'] = scaler.fit_transform(Data[['Departure_Day']])\n",
    "Data['Departure_Month'] = scaler.fit_transform(Data[['Departure_Month']])\n",
    "Data['Departure_Year'] = scaler.fit_transform(Data[['Departure_Year']])\n",
    "Data['Price'] = scaler.fit_transform(Data[['Price']])\n",
    "\n",
    "model = torch.jit.load('./modelo/modelo_precios_boleto.pt')\n",
    "model.eval()"
   ]
  },
  {
   "cell_type": "code",
   "execution_count": 15,
   "metadata": {},
   "outputs": [],
   "source": [
    "\n",
    "def Datos_Pronostico(aerolinea,source,Destino,escalas,fecha,cant_fechas):\n",
    "     Datos_base=preparacion_datos(aerolinea,source,Destino)\n",
    "     Dates=Fecha(fecha,cant_fechas)\n",
    "     Datos_completos=[]\n",
    "     for date in Dates:\n",
    "          Datos_Normalizados=Normalizar(escalas,date.day,date.month,date.year)\n",
    "          Datos_completos.append(Datos_base+Datos_Normalizados)\n",
    "     return Datos_completos\n",
    "     "
   ]
  },
  {
   "cell_type": "code",
   "execution_count": 17,
   "metadata": {},
   "outputs": [],
   "source": [
    "aerolinea='American Airlines'\n",
    "source='NYC'\n",
    "Destino='SVO'\n",
    "resultado=Datos_Pronostico(aerolinea,source,Destino,1,\"2023-06-21\",4)"
   ]
  },
  {
   "cell_type": "code",
   "execution_count": 19,
   "metadata": {},
   "outputs": [
    {
     "name": "stdout",
     "output_type": "stream",
     "text": [
      "[0.0, 0.0, 0.0, 1.0, 0.0, 0.0, 0.0, 0.0, 0.0, 0.0, 0.0, 0.0, 0.0, 0.0, 0.0, 0.0, 0.0, 0.0, 0.0, 0.0, 1.0, 0.0, 0.0, 0.0, 0.0, 0.0, 0.0, 1.0, 0.3333333333333333, 0.6666666666666666, 2.0, 0]\n",
      "[0.0, 0.0, 0.0, 1.0, 0.0, 0.0, 0.0, 0.0, 0.0, 0.0, 0.0, 0.0, 0.0, 0.0, 0.0, 0.0, 0.0, 0.0, 0.0, 0.0, 1.0, 0.0, 0.0, 0.0, 0.0, 0.0, 0.0, 1.0, 0.3333333333333333, 0.7, 2.0, 0]\n",
      "[0.0, 0.0, 0.0, 1.0, 0.0, 0.0, 0.0, 0.0, 0.0, 0.0, 0.0, 0.0, 0.0, 0.0, 0.0, 0.0, 0.0, 0.0, 0.0, 0.0, 1.0, 0.0, 0.0, 0.0, 0.0, 0.0, 0.0, 1.0, 0.3333333333333333, 0.7333333333333333, 2.0, 0]\n",
      "[0.0, 0.0, 0.0, 1.0, 0.0, 0.0, 0.0, 0.0, 0.0, 0.0, 0.0, 0.0, 0.0, 0.0, 0.0, 0.0, 0.0, 0.0, 0.0, 0.0, 1.0, 0.0, 0.0, 0.0, 0.0, 0.0, 0.0, 1.0, 0.3333333333333333, 0.7666666666666667, 2.0, 0]\n"
     ]
    }
   ],
   "source": [
    "for i in resultado:\n",
    "    print(i)"
   ]
  },
  {
   "cell_type": "code",
   "execution_count": 45,
   "metadata": {},
   "outputs": [],
   "source": [
    "def Predic(lista_datos):\n",
    "    lista_datos = [[float(valor) for valor in fila] for fila in lista_datos]\n",
    "    device = torch.device('cpu')\n",
    "    S = torch.tensor(lista_datos, device=device)\n",
    "    list_predic=model(S).detach().numpy()\n",
    "\n",
    "    return scaler.inverse_transform(list_predic)"
   ]
  },
  {
   "cell_type": "code",
   "execution_count": 46,
   "metadata": {},
   "outputs": [],
   "source": [
    "ss=Predic(resultado)"
   ]
  },
  {
   "cell_type": "code",
   "execution_count": 47,
   "metadata": {},
   "outputs": [
    {
     "data": {
      "text/plain": [
       "array([[1011.22284],\n",
       "       [1017.7316 ],\n",
       "       [1024.2407 ],\n",
       "       [1030.7495 ]], dtype=float32)"
      ]
     },
     "execution_count": 47,
     "metadata": {},
     "output_type": "execute_result"
    }
   ],
   "source": [
    "ss"
   ]
  },
  {
   "cell_type": "code",
   "execution_count": 44,
   "metadata": {},
   "outputs": [
    {
     "data": {
      "text/plain": [
       "[array([[1011.22284],\n",
       "        [1017.7316 ],\n",
       "        [1024.2407 ],\n",
       "        [1030.7495 ]], dtype=float32)]"
      ]
     },
     "execution_count": 44,
     "metadata": {},
     "output_type": "execute_result"
    }
   ],
   "source": [
    "[scaler.inverse_transform(ss)]"
   ]
  },
  {
   "cell_type": "code",
   "execution_count": 33,
   "metadata": {},
   "outputs": [
    {
     "data": {
      "text/plain": [
       "0.06629075"
      ]
     },
     "execution_count": 33,
     "metadata": {},
     "output_type": "execute_result"
    }
   ],
   "source": [
    "ss[0][0]"
   ]
  }
 ],
 "metadata": {
  "kernelspec": {
   "display_name": "Python 3",
   "language": "python",
   "name": "python3"
  },
  "language_info": {
   "codemirror_mode": {
    "name": "ipython",
    "version": 3
   },
   "file_extension": ".py",
   "mimetype": "text/x-python",
   "name": "python",
   "nbconvert_exporter": "python",
   "pygments_lexer": "ipython3",
   "version": "3.10.6"
  },
  "orig_nbformat": 4
 },
 "nbformat": 4,
 "nbformat_minor": 2
}
